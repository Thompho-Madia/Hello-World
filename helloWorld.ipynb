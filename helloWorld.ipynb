{
  "nbformat": 4,
  "nbformat_minor": 0,
  "metadata": {
    "colab": {
      "provenance": [],
      "authorship_tag": "ABX9TyOEQ8RXGkA7cS1cuP8twvMg",
      "include_colab_link": true
    },
    "kernelspec": {
      "name": "python3",
      "display_name": "Python 3"
    },
    "language_info": {
      "name": "python"
    }
  },
  "cells": [
    {
      "cell_type": "markdown",
      "metadata": {
        "id": "view-in-github",
        "colab_type": "text"
      },
      "source": [
        "<a href=\"https://colab.research.google.com/github/Thompho-Madia/Hello-World/blob/first_branch/helloWorld.ipynb\" target=\"_parent\"><img src=\"https://colab.research.google.com/assets/colab-badge.svg\" alt=\"Open In Colab\"/></a>"
      ]
    },
    {
      "cell_type": "code",
      "execution_count": 1,
      "metadata": {
        "id": "FzC1AVvfhdpP",
        "colab": {
          "base_uri": "https://localhost:8080/"
        },
        "outputId": "c6408040-6ff4-4a71-d727-ba87d4aaf933"
      },
      "outputs": [
        {
          "output_type": "stream",
          "name": "stdout",
          "text": [
            "Hello world\n"
          ]
        }
      ],
      "source": [
        "print(\"Hello world\")"
      ]
    },
    {
      "cell_type": "code",
      "source": [
        "class Person:\n",
        "  def __init__(self, name, surname, age):\n",
        "    self.firstName = name\n",
        "    self.lastName = surname\n",
        "    self.age = age\n",
        "    self.email = name+surname+\"@gmail.com\"\n",
        "\n"
      ],
      "metadata": {
        "id": "RICzGxDlhRxc"
      },
      "execution_count": 3,
      "outputs": []
    }
  ]
}